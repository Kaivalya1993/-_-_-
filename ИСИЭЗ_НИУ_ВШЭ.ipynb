{
 "cells": [
  {
   "cell_type": "code",
   "execution_count": 28,
   "id": "a49fd93d",
   "metadata": {},
   "outputs": [],
   "source": [
    "import pandas as pd\n",
    "import numpy as np\n",
    "import seaborn as sns\n",
    "import matplotlib.pyplot as plt\n",
    "import scipy.stats as stats\n",
    "import researchpy"
   ]
  },
  {
   "cell_type": "code",
   "execution_count": 2,
   "id": "83a60916",
   "metadata": {},
   "outputs": [
    {
     "name": "stdout",
     "output_type": "stream",
     "text": [
      "CCSwWLzjeFg.jpg\r\n",
      "\u001b[34mEBooks\u001b[m\u001b[m/\r\n",
      "\u001b[34mMcKinsey\u001b[m\u001b[m/\r\n",
      "NDA_ Kaivalya Anand Pandey.pdf\r\n",
      "\u001b[34mRussian\u001b[m\u001b[m/\r\n",
      "\u001b[34mSTI\u001b[m\u001b[m/\r\n",
      "\u001b[34mSelf Improvemenet Books\u001b[m\u001b[m/\r\n",
      "\u001b[34mUbego\u001b[m\u001b[m/\r\n",
      "newhamp.csv\r\n",
      "sochimoscowenglish.pdf\r\n",
      "sochimoscowrussian.pdf\r\n",
      "~$ Engineer Task _ MRI processing and CNN model building.docx\r\n",
      "~$22 _Consent for PD Processing_18+.doc\r\n",
      "~$ster_Consent for Enrolment.docx\r\n",
      "ИСИЭЗ_НИУ_ВШЭ.ipynb\r\n"
     ]
    }
   ],
   "source": [
    "ls"
   ]
  },
  {
   "cell_type": "markdown",
   "id": "ab98152f",
   "metadata": {},
   "source": [
    "# 1 Exploratory Data Analysis"
   ]
  },
  {
   "cell_type": "code",
   "execution_count": 4,
   "id": "c1644266",
   "metadata": {},
   "outputs": [],
   "source": [
    "data = pd.read_csv('newhamp.csv')"
   ]
  },
  {
   "cell_type": "code",
   "execution_count": 5,
   "id": "1dab512a",
   "metadata": {},
   "outputs": [
    {
     "data": {
      "text/html": [
       "<div>\n",
       "<style scoped>\n",
       "    .dataframe tbody tr th:only-of-type {\n",
       "        vertical-align: middle;\n",
       "    }\n",
       "\n",
       "    .dataframe tbody tr th {\n",
       "        vertical-align: top;\n",
       "    }\n",
       "\n",
       "    .dataframe thead th {\n",
       "        text-align: right;\n",
       "    }\n",
       "</style>\n",
       "<table border=\"1\" class=\"dataframe\">\n",
       "  <thead>\n",
       "    <tr style=\"text-align: right;\">\n",
       "      <th></th>\n",
       "      <th>Unnamed: 0</th>\n",
       "      <th>votesys</th>\n",
       "      <th>Obama</th>\n",
       "      <th>Clinton</th>\n",
       "      <th>dem</th>\n",
       "      <th>povrate</th>\n",
       "      <th>pci</th>\n",
       "      <th>Dean</th>\n",
       "      <th>Kerry</th>\n",
       "      <th>white</th>\n",
       "      <th>absentee</th>\n",
       "      <th>population</th>\n",
       "      <th>pObama</th>\n",
       "    </tr>\n",
       "  </thead>\n",
       "  <tbody>\n",
       "    <tr>\n",
       "      <th>0</th>\n",
       "      <td>0</td>\n",
       "      <td>D</td>\n",
       "      <td>371</td>\n",
       "      <td>362</td>\n",
       "      <td>979</td>\n",
       "      <td>0.0653</td>\n",
       "      <td>25940</td>\n",
       "      <td>0.27820</td>\n",
       "      <td>0.32030</td>\n",
       "      <td>0.98312</td>\n",
       "      <td>0.059857</td>\n",
       "      <td>4693.0</td>\n",
       "      <td>0.378958</td>\n",
       "    </tr>\n",
       "    <tr>\n",
       "      <th>1</th>\n",
       "      <td>1</td>\n",
       "      <td>D</td>\n",
       "      <td>345</td>\n",
       "      <td>333</td>\n",
       "      <td>913</td>\n",
       "      <td>0.0380</td>\n",
       "      <td>19773</td>\n",
       "      <td>0.24398</td>\n",
       "      <td>0.36747</td>\n",
       "      <td>0.97349</td>\n",
       "      <td>0.050449</td>\n",
       "      <td>4266.0</td>\n",
       "      <td>0.377875</td>\n",
       "    </tr>\n",
       "    <tr>\n",
       "      <th>2</th>\n",
       "      <td>2</td>\n",
       "      <td>D</td>\n",
       "      <td>375</td>\n",
       "      <td>570</td>\n",
       "      <td>1305</td>\n",
       "      <td>0.0428</td>\n",
       "      <td>19986</td>\n",
       "      <td>0.20096</td>\n",
       "      <td>0.41627</td>\n",
       "      <td>0.96739</td>\n",
       "      <td>0.043649</td>\n",
       "      <td>7006.0</td>\n",
       "      <td>0.287356</td>\n",
       "    </tr>\n",
       "    <tr>\n",
       "      <th>3</th>\n",
       "      <td>3</td>\n",
       "      <td>H</td>\n",
       "      <td>92</td>\n",
       "      <td>89</td>\n",
       "      <td>268</td>\n",
       "      <td>0.0669</td>\n",
       "      <td>25627</td>\n",
       "      <td>0.28495</td>\n",
       "      <td>0.33333</td>\n",
       "      <td>0.97892</td>\n",
       "      <td>0.107356</td>\n",
       "      <td>1033.0</td>\n",
       "      <td>0.343284</td>\n",
       "    </tr>\n",
       "    <tr>\n",
       "      <th>4</th>\n",
       "      <td>4</td>\n",
       "      <td>D</td>\n",
       "      <td>668</td>\n",
       "      <td>595</td>\n",
       "      <td>1633</td>\n",
       "      <td>0.0332</td>\n",
       "      <td>32667</td>\n",
       "      <td>0.24937</td>\n",
       "      <td>0.37781</td>\n",
       "      <td>0.97986</td>\n",
       "      <td>0.074706</td>\n",
       "      <td>7033.0</td>\n",
       "      <td>0.409063</td>\n",
       "    </tr>\n",
       "  </tbody>\n",
       "</table>\n",
       "</div>"
      ],
      "text/plain": [
       "   Unnamed: 0 votesys  Obama  Clinton   dem  povrate    pci     Dean    Kerry  \\\n",
       "0           0       D    371      362   979   0.0653  25940  0.27820  0.32030   \n",
       "1           1       D    345      333   913   0.0380  19773  0.24398  0.36747   \n",
       "2           2       D    375      570  1305   0.0428  19986  0.20096  0.41627   \n",
       "3           3       H     92       89   268   0.0669  25627  0.28495  0.33333   \n",
       "4           4       D    668      595  1633   0.0332  32667  0.24937  0.37781   \n",
       "\n",
       "     white  absentee  population    pObama  \n",
       "0  0.98312  0.059857      4693.0  0.378958  \n",
       "1  0.97349  0.050449      4266.0  0.377875  \n",
       "2  0.96739  0.043649      7006.0  0.287356  \n",
       "3  0.97892  0.107356      1033.0  0.343284  \n",
       "4  0.97986  0.074706      7033.0  0.409063  "
      ]
     },
     "execution_count": 5,
     "metadata": {},
     "output_type": "execute_result"
    }
   ],
   "source": [
    "data.head()"
   ]
  },
  {
   "cell_type": "code",
   "execution_count": 6,
   "id": "99a0e9b2",
   "metadata": {},
   "outputs": [
    {
     "data": {
      "text/plain": [
       "(276, 13)"
      ]
     },
     "execution_count": 6,
     "metadata": {},
     "output_type": "execute_result"
    }
   ],
   "source": [
    "data.shape"
   ]
  },
  {
   "cell_type": "code",
   "execution_count": 7,
   "id": "2c93880a",
   "metadata": {},
   "outputs": [
    {
     "data": {
      "text/plain": [
       "Unnamed: 0    0\n",
       "votesys       0\n",
       "Obama         0\n",
       "Clinton       0\n",
       "dem           0\n",
       "povrate       0\n",
       "pci           0\n",
       "Dean          0\n",
       "Kerry         0\n",
       "white         0\n",
       "absentee      0\n",
       "population    0\n",
       "pObama        0\n",
       "dtype: int64"
      ]
     },
     "execution_count": 7,
     "metadata": {},
     "output_type": "execute_result"
    }
   ],
   "source": [
    "data.isna().sum()"
   ]
  },
  {
   "cell_type": "code",
   "execution_count": 10,
   "id": "adfba71e",
   "metadata": {},
   "outputs": [
    {
     "data": {
      "text/plain": [
       "<AxesSubplot:xlabel='votesys', ylabel='count'>"
      ]
     },
     "execution_count": 10,
     "metadata": {},
     "output_type": "execute_result"
    },
    {
     "data": {
      "image/png": "[encoded data removed]",
      "text/plain": [
       "<Figure size 432x288 with 1 Axes>"
      ]
     },
     "metadata": {
      "needs_background": "light"
     },
     "output_type": "display_data"
    }
   ],
   "source": [
    "sns.countplot(x=data['votesys'])"
   ]
  },
  {
   "cell_type": "code",
   "execution_count": 12,
   "id": "df87e2ef",
   "metadata": {},
   "outputs": [],
   "source": [
    "data['ward_winner'] = np.where(data['Obama']>data['Clinton'],'O','C')"
   ]
  },
  {
   "cell_type": "code",
   "execution_count": 52,
   "id": "966951a4",
   "metadata": {},
   "outputs": [
    {
     "data": {
      "text/plain": [
       "<AxesSubplot:xlabel='ward_winner', ylabel='count'>"
      ]
     },
     "execution_count": 52,
     "metadata": {},
     "output_type": "execute_result"
    },
    {
     "data": {
      "image/png": "[encoded data removed]",
      "text/plain": [
       "<Figure size 432x288 with 1 Axes>"
      ]
     },
     "metadata": {
      "needs_background": "light"
     },
     "output_type": "display_data"
    }
   ],
   "source": [
    "sns.countplot(x=data['ward_winner'],hue= data['votesys'])"
   ]
  },
  {
   "cell_type": "code",
   "execution_count": 73,
   "id": "38054cb6",
   "metadata": {},
   "outputs": [
    {
     "data": {
      "image/png": "[encoded data removed]",
      "text/plain": [
       "<Figure size 864x504 with 1 Axes>"
      ]
     },
     "metadata": {
      "needs_background": "light"
     },
     "output_type": "display_data"
    }
   ],
   "source": [
    "plt.figure(figsize=(12,7))\n",
    "sns.stripplot(data=data, x='votesys', y='povrate', hue=\"ward_winner\")\n",
    "plt.show()"
   ]
  },
  {
   "cell_type": "code",
   "execution_count": 71,
   "id": "abbb0ac8",
   "metadata": {},
   "outputs": [
    {
     "data": {
      "image/png": "[encoded data removed]",
      "text/plain": [
       "<Figure size 864x504 with 1 Axes>"
      ]
     },
     "metadata": {
      "needs_background": "light"
     },
     "output_type": "display_data"
    }
   ],
   "source": [
    "plt.figure(figsize=(12,7))\n",
    "sns.stripplot(data=data, x='votesys', y='pci', hue=\"ward_winner\")\n",
    "plt.show()"
   ]
  },
  {
   "cell_type": "code",
   "execution_count": 72,
   "id": "c27df79d",
   "metadata": {},
   "outputs": [
    {
     "data": {
      "image/png": "[encoded data removed]",
      "text/plain": [
       "<Figure size 864x504 with 1 Axes>"
      ]
     },
     "metadata": {
      "needs_background": "light"
     },
     "output_type": "display_data"
    }
   ],
   "source": [
    "plt.figure(figsize=(12,7))\n",
    "sns.stripplot(data=data, x='votesys', y='white', hue=\"ward_winner\")\n",
    "plt.show()"
   ]
  },
  {
   "cell_type": "code",
   "execution_count": 74,
   "id": "163ddcf9",
   "metadata": {},
   "outputs": [
    {
     "data": {
      "image/png": "[encoded data removed]",
      "text/plain": [
       "<Figure size 864x504 with 1 Axes>"
      ]
     },
     "metadata": {
      "needs_background": "light"
     },
     "output_type": "display_data"
    }
   ],
   "source": [
    "plt.figure(figsize=(12,7))\n",
    "sns.stripplot(data=data, x='votesys', y='population', hue=\"ward_winner\")\n",
    "plt.show()"
   ]
  },
  {
   "cell_type": "code",
   "execution_count": 50,
   "id": "c8844fd4",
   "metadata": {},
   "outputs": [
    {
     "data": {
      "text/plain": [
       "Unnamed: 0       int64\n",
       "votesys         object\n",
       "Obama            int64\n",
       "Clinton          int64\n",
       "dem              int64\n",
       "povrate        float64\n",
       "pci              int64\n",
       "Dean           float64\n",
       "Kerry          float64\n",
       "white          float64\n",
       "absentee       float64\n",
       "population     float64\n",
       "pObama         float64\n",
       "ward_winner     object\n",
       "dtype: object"
      ]
     },
     "execution_count": 50,
     "metadata": {},
     "output_type": "execute_result"
    }
   ],
   "source": [
    "data.dtypes"
   ]
  },
  {
   "cell_type": "code",
   "execution_count": 131,
   "id": "4a9ade50",
   "metadata": {},
   "outputs": [
    {
     "data": {
      "text/html": [
       "<div>\n",
       "<style scoped>\n",
       "    .dataframe tbody tr th:only-of-type {\n",
       "        vertical-align: middle;\n",
       "    }\n",
       "\n",
       "    .dataframe tbody tr th {\n",
       "        vertical-align: top;\n",
       "    }\n",
       "\n",
       "    .dataframe thead th {\n",
       "        text-align: right;\n",
       "    }\n",
       "</style>\n",
       "<table border=\"1\" class=\"dataframe\">\n",
       "  <thead>\n",
       "    <tr style=\"text-align: right;\">\n",
       "      <th></th>\n",
       "      <th>povrate</th>\n",
       "      <th>pci</th>\n",
       "      <th>white</th>\n",
       "    </tr>\n",
       "  </thead>\n",
       "  <tbody>\n",
       "    <tr>\n",
       "      <th>count</th>\n",
       "      <td>276.000000</td>\n",
       "      <td>276.000000</td>\n",
       "      <td>276.000000</td>\n",
       "    </tr>\n",
       "    <tr>\n",
       "      <th>mean</th>\n",
       "      <td>0.067073</td>\n",
       "      <td>22881.362319</td>\n",
       "      <td>0.962178</td>\n",
       "    </tr>\n",
       "    <tr>\n",
       "      <th>std</th>\n",
       "      <td>0.034728</td>\n",
       "      <td>4659.451843</td>\n",
       "      <td>0.027806</td>\n",
       "    </tr>\n",
       "    <tr>\n",
       "      <th>min</th>\n",
       "      <td>0.007900</td>\n",
       "      <td>13784.000000</td>\n",
       "      <td>0.864930</td>\n",
       "    </tr>\n",
       "    <tr>\n",
       "      <th>25%</th>\n",
       "      <td>0.040200</td>\n",
       "      <td>19592.000000</td>\n",
       "      <td>0.959597</td>\n",
       "    </tr>\n",
       "    <tr>\n",
       "      <th>50%</th>\n",
       "      <td>0.066300</td>\n",
       "      <td>21941.500000</td>\n",
       "      <td>0.972310</td>\n",
       "    </tr>\n",
       "    <tr>\n",
       "      <th>75%</th>\n",
       "      <td>0.088375</td>\n",
       "      <td>25209.000000</td>\n",
       "      <td>0.978113</td>\n",
       "    </tr>\n",
       "    <tr>\n",
       "      <th>max</th>\n",
       "      <td>0.276900</td>\n",
       "      <td>44936.000000</td>\n",
       "      <td>0.994880</td>\n",
       "    </tr>\n",
       "  </tbody>\n",
       "</table>\n",
       "</div>"
      ],
      "text/plain": [
       "          povrate           pci       white\n",
       "count  276.000000    276.000000  276.000000\n",
       "mean     0.067073  22881.362319    0.962178\n",
       "std      0.034728   4659.451843    0.027806\n",
       "min      0.007900  13784.000000    0.864930\n",
       "25%      0.040200  19592.000000    0.959597\n",
       "50%      0.066300  21941.500000    0.972310\n",
       "75%      0.088375  25209.000000    0.978113\n",
       "max      0.276900  44936.000000    0.994880"
      ]
     },
     "execution_count": 131,
     "metadata": {},
     "output_type": "execute_result"
    }
   ],
   "source": [
    "data[['povrate','pci','white']].describe()"
   ]
  },
  {
   "attachments": {
    "Screenshot%202023-07-25%20at%2022.34.34.png": {
     "image/png": "[encoded data removed]"
    }
   },
   "cell_type": "markdown",
   "id": "20061052",
   "metadata": {},
   "source": [
    "## 2. To indicate the strength of association between two nominal variables Cramer's V is often used. I am using \"researchpy\" which produces Pandas DataFrames that contain relevant statistical testing information that is commonly required for academic research. ![Screenshot%202023-07-25%20at%2022.34.34.png](attachment:Screenshot%202023-07-25%20at%2022.34.34.png) \n",
    "## The degrees of freedom (df*) is for Cramér's V the minimum of the number of rows, or number of columns, then minus one.\n",
    "\n"
   ]
  },
  {
   "cell_type": "code",
   "execution_count": 35,
   "id": "7f0de4aa",
   "metadata": {},
   "outputs": [
    {
     "data": {
      "text/html": [
       "<div>\n",
       "<style scoped>\n",
       "    .dataframe tbody tr th:only-of-type {\n",
       "        vertical-align: middle;\n",
       "    }\n",
       "\n",
       "    .dataframe tbody tr th {\n",
       "        vertical-align: top;\n",
       "    }\n",
       "\n",
       "    .dataframe thead th {\n",
       "        text-align: right;\n",
       "    }\n",
       "</style>\n",
       "<table border=\"1\" class=\"dataframe\">\n",
       "  <thead>\n",
       "    <tr style=\"text-align: right;\">\n",
       "      <th>ward_winner</th>\n",
       "      <th>C</th>\n",
       "      <th>O</th>\n",
       "    </tr>\n",
       "    <tr>\n",
       "      <th>votesys</th>\n",
       "      <th></th>\n",
       "      <th></th>\n",
       "    </tr>\n",
       "  </thead>\n",
       "  <tbody>\n",
       "    <tr>\n",
       "      <th>D</th>\n",
       "      <td>115</td>\n",
       "      <td>59</td>\n",
       "    </tr>\n",
       "    <tr>\n",
       "      <th>H</th>\n",
       "      <td>34</td>\n",
       "      <td>68</td>\n",
       "    </tr>\n",
       "  </tbody>\n",
       "</table>\n",
       "</div>"
      ],
      "text/plain": [
       "ward_winner    C   O\n",
       "votesys             \n",
       "D            115  59\n",
       "H             34  68"
      ]
     },
     "execution_count": 35,
     "metadata": {},
     "output_type": "execute_result"
    }
   ],
   "source": [
    "cont = pd.crosstab(data['votesys'], data['ward_winner'])\n",
    "cont"
   ]
  },
  {
   "cell_type": "code",
   "execution_count": 36,
   "id": "a1d19f0f",
   "metadata": {},
   "outputs": [],
   "source": [
    "crosstab, res = researchpy.crosstab(data['votesys'],data['ward_winner'],test='chi-square')"
   ]
  },
  {
   "cell_type": "code",
   "execution_count": 38,
   "id": "673806f8",
   "metadata": {},
   "outputs": [
    {
     "data": {
      "text/html": [
       "<div>\n",
       "<style scoped>\n",
       "    .dataframe tbody tr th:only-of-type {\n",
       "        vertical-align: middle;\n",
       "    }\n",
       "\n",
       "    .dataframe tbody tr th {\n",
       "        vertical-align: top;\n",
       "    }\n",
       "\n",
       "    .dataframe thead th {\n",
       "        text-align: right;\n",
       "    }\n",
       "</style>\n",
       "<table border=\"1\" class=\"dataframe\">\n",
       "  <thead>\n",
       "    <tr style=\"text-align: right;\">\n",
       "      <th></th>\n",
       "      <th>Chi-square test</th>\n",
       "      <th>results</th>\n",
       "    </tr>\n",
       "  </thead>\n",
       "  <tbody>\n",
       "    <tr>\n",
       "      <th>0</th>\n",
       "      <td>Pearson Chi-square ( 1.0) =</td>\n",
       "      <td>27.7792</td>\n",
       "    </tr>\n",
       "    <tr>\n",
       "      <th>1</th>\n",
       "      <td>p-value =</td>\n",
       "      <td>0.0000</td>\n",
       "    </tr>\n",
       "    <tr>\n",
       "      <th>2</th>\n",
       "      <td>Cramer's phi =</td>\n",
       "      <td>0.3173</td>\n",
       "    </tr>\n",
       "  </tbody>\n",
       "</table>\n",
       "</div>"
      ],
      "text/plain": [
       "                Chi-square test  results\n",
       "0  Pearson Chi-square ( 1.0) =   27.7792\n",
       "1                    p-value =    0.0000\n",
       "2               Cramer's phi =    0.3173"
      ]
     },
     "execution_count": 38,
     "metadata": {},
     "output_type": "execute_result"
    }
   ],
   "source": [
    "res"
   ]
  },
  {
   "cell_type": "markdown",
   "id": "b4d3e2a2",
   "metadata": {},
   "source": [
    "### So, as can be seen from the result, Cramér's V is 0.3173. To classify this, we also need the degrees of freedom. This is simply:\n",
    "\n",
    "### df* =MIN(𝑟,𝑐)−1 \n",
    "\n",
    "### Where  𝑟  is the number of rows, and  𝑐  the number of columns."
   ]
  },
  {
   "cell_type": "code",
   "execution_count": 39,
   "id": "9b4f3687",
   "metadata": {},
   "outputs": [
    {
     "data": {
      "text/plain": [
       "1"
      ]
     },
     "execution_count": 39,
     "metadata": {},
     "output_type": "execute_result"
    }
   ],
   "source": [
    "df = min(cont.shape[0], cont.shape[1]) - 1\n",
    "df"
   ]
  },
  {
   "cell_type": "code",
   "execution_count": 40,
   "id": "4d7233b4",
   "metadata": {},
   "outputs": [
    {
     "data": {
      "text/plain": [
       "0.3173"
      ]
     },
     "execution_count": 40,
     "metadata": {},
     "output_type": "execute_result"
    }
   ],
   "source": [
    "V = res.iloc[2,1]\n",
    "V"
   ]
  },
  {
   "cell_type": "code",
   "execution_count": 41,
   "id": "8fa16d02",
   "metadata": {},
   "outputs": [
    {
     "data": {
      "text/plain": [
       "'medium'"
      ]
     },
     "execution_count": 41,
     "metadata": {},
     "output_type": "execute_result"
    }
   ],
   "source": [
    "if df == 1:\n",
    "    if V < 0.10:\n",
    "        asso = 'negligible'\n",
    "    elif V < 0.30:\n",
    "        asso = 'small'\n",
    "    elif V < 0.50:\n",
    "        asso = 'medium'\n",
    "    else:\n",
    "        asso = 'large'\n",
    "elif df == 2:\n",
    "    if V < 0.07:\n",
    "        asso = 'negligible'\n",
    "    elif V < 0.21:\n",
    "        asso = 'small'\n",
    "    elif V < 0.35:\n",
    "        asso = 'medium'\n",
    "    else:\n",
    "        asso = 'large'\n",
    "elif df == 3:\n",
    "    if V < 0.06:\n",
    "        asso = 'negligible'\n",
    "    elif V < 0.17:\n",
    "        asso = 'small'\n",
    "    elif V < 0.29:\n",
    "        asso = 'medium'\n",
    "    else:\n",
    "        asso = 'large'\n",
    "elif df == 4:\n",
    "    if V < 0.05:\n",
    "        asso = 'negligible'\n",
    "    elif V < 0.15:\n",
    "        asso = 'small'\n",
    "    elif V < 0.25:\n",
    "        asso = 'medium'\n",
    "    else:\n",
    "        asso = 'large'\n",
    "else:\n",
    "    if V < 0.05:\n",
    "        asso = 'negligible'\n",
    "    elif V < 0.13:\n",
    "        asso = 'small'\n",
    "    elif V < 0.22:\n",
    "        asso = 'medium'\n",
    "    else:\n",
    "        asso = 'large'\n",
    "\n",
    "asso"
   ]
  },
  {
   "cell_type": "markdown",
   "id": "c713bbfb",
   "metadata": {},
   "source": [
    "### So we found their is medium level of association between voting method and winner. However I don't think  that method of voting made affect on results, as we can see association is medium and not strong. "
   ]
  },
  {
   "cell_type": "markdown",
   "id": "cec610e5",
   "metadata": {},
   "source": [
    "### 3. Below now we will try to calculate whether other factors have affect on result of elections"
   ]
  },
  {
   "cell_type": "code",
   "execution_count": 87,
   "id": "b39c3d81",
   "metadata": {},
   "outputs": [
    {
     "data": {
      "text/html": [
       "<div>\n",
       "<style scoped>\n",
       "    .dataframe tbody tr th:only-of-type {\n",
       "        vertical-align: middle;\n",
       "    }\n",
       "\n",
       "    .dataframe tbody tr th {\n",
       "        vertical-align: top;\n",
       "    }\n",
       "\n",
       "    .dataframe thead th {\n",
       "        text-align: right;\n",
       "    }\n",
       "</style>\n",
       "<table border=\"1\" class=\"dataframe\">\n",
       "  <thead>\n",
       "    <tr style=\"text-align: right;\">\n",
       "      <th></th>\n",
       "      <th>Unnamed: 0</th>\n",
       "      <th>votesys</th>\n",
       "      <th>Obama</th>\n",
       "      <th>Clinton</th>\n",
       "      <th>dem</th>\n",
       "      <th>povrate</th>\n",
       "      <th>pci</th>\n",
       "      <th>Dean</th>\n",
       "      <th>Kerry</th>\n",
       "      <th>white</th>\n",
       "      <th>absentee</th>\n",
       "      <th>population</th>\n",
       "      <th>pObama</th>\n",
       "      <th>ward_winner</th>\n",
       "    </tr>\n",
       "  </thead>\n",
       "  <tbody>\n",
       "    <tr>\n",
       "      <th>0</th>\n",
       "      <td>0</td>\n",
       "      <td>D</td>\n",
       "      <td>371</td>\n",
       "      <td>362</td>\n",
       "      <td>979</td>\n",
       "      <td>0.0653</td>\n",
       "      <td>25940</td>\n",
       "      <td>0.27820</td>\n",
       "      <td>0.32030</td>\n",
       "      <td>0.98312</td>\n",
       "      <td>0.059857</td>\n",
       "      <td>4693.0</td>\n",
       "      <td>0.378958</td>\n",
       "      <td>O</td>\n",
       "    </tr>\n",
       "    <tr>\n",
       "      <th>1</th>\n",
       "      <td>1</td>\n",
       "      <td>D</td>\n",
       "      <td>345</td>\n",
       "      <td>333</td>\n",
       "      <td>913</td>\n",
       "      <td>0.0380</td>\n",
       "      <td>19773</td>\n",
       "      <td>0.24398</td>\n",
       "      <td>0.36747</td>\n",
       "      <td>0.97349</td>\n",
       "      <td>0.050449</td>\n",
       "      <td>4266.0</td>\n",
       "      <td>0.377875</td>\n",
       "      <td>O</td>\n",
       "    </tr>\n",
       "    <tr>\n",
       "      <th>2</th>\n",
       "      <td>2</td>\n",
       "      <td>D</td>\n",
       "      <td>375</td>\n",
       "      <td>570</td>\n",
       "      <td>1305</td>\n",
       "      <td>0.0428</td>\n",
       "      <td>19986</td>\n",
       "      <td>0.20096</td>\n",
       "      <td>0.41627</td>\n",
       "      <td>0.96739</td>\n",
       "      <td>0.043649</td>\n",
       "      <td>7006.0</td>\n",
       "      <td>0.287356</td>\n",
       "      <td>C</td>\n",
       "    </tr>\n",
       "    <tr>\n",
       "      <th>3</th>\n",
       "      <td>3</td>\n",
       "      <td>H</td>\n",
       "      <td>92</td>\n",
       "      <td>89</td>\n",
       "      <td>268</td>\n",
       "      <td>0.0669</td>\n",
       "      <td>25627</td>\n",
       "      <td>0.28495</td>\n",
       "      <td>0.33333</td>\n",
       "      <td>0.97892</td>\n",
       "      <td>0.107356</td>\n",
       "      <td>1033.0</td>\n",
       "      <td>0.343284</td>\n",
       "      <td>O</td>\n",
       "    </tr>\n",
       "    <tr>\n",
       "      <th>4</th>\n",
       "      <td>4</td>\n",
       "      <td>D</td>\n",
       "      <td>668</td>\n",
       "      <td>595</td>\n",
       "      <td>1633</td>\n",
       "      <td>0.0332</td>\n",
       "      <td>32667</td>\n",
       "      <td>0.24937</td>\n",
       "      <td>0.37781</td>\n",
       "      <td>0.97986</td>\n",
       "      <td>0.074706</td>\n",
       "      <td>7033.0</td>\n",
       "      <td>0.409063</td>\n",
       "      <td>O</td>\n",
       "    </tr>\n",
       "  </tbody>\n",
       "</table>\n",
       "</div>"
      ],
      "text/plain": [
       "   Unnamed: 0 votesys  Obama  Clinton   dem  povrate    pci     Dean    Kerry  \\\n",
       "0           0       D    371      362   979   0.0653  25940  0.27820  0.32030   \n",
       "1           1       D    345      333   913   0.0380  19773  0.24398  0.36747   \n",
       "2           2       D    375      570  1305   0.0428  19986  0.20096  0.41627   \n",
       "3           3       H     92       89   268   0.0669  25627  0.28495  0.33333   \n",
       "4           4       D    668      595  1633   0.0332  32667  0.24937  0.37781   \n",
       "\n",
       "     white  absentee  population    pObama ward_winner  \n",
       "0  0.98312  0.059857      4693.0  0.378958           O  \n",
       "1  0.97349  0.050449      4266.0  0.377875           O  \n",
       "2  0.96739  0.043649      7006.0  0.287356           C  \n",
       "3  0.97892  0.107356      1033.0  0.343284           O  \n",
       "4  0.97986  0.074706      7033.0  0.409063           O  "
      ]
     },
     "execution_count": 87,
     "metadata": {},
     "output_type": "execute_result"
    }
   ],
   "source": [
    "data.head()"
   ]
  },
  {
   "cell_type": "markdown",
   "id": "93196fe7",
   "metadata": {},
   "source": [
    "#### 3.1 Correlation between \"povrate\" and ward winner. Since povrate , pci, white, population are continous variable and ward_winner is categorical, we will use Point Biserial Method to find strength of association. Like other correlation coefficients, this one varies between -1 and +1 with 0 implying no correlation. Correlations of -1 or +1 imply a determinative relationship."
   ]
  },
  {
   "cell_type": "code",
   "execution_count": 90,
   "id": "73e98079",
   "metadata": {},
   "outputs": [
    {
     "data": {
      "text/plain": [
       "Unnamed: 0       int64\n",
       "votesys         object\n",
       "Obama            int64\n",
       "Clinton          int64\n",
       "dem              int64\n",
       "povrate        float64\n",
       "pci              int64\n",
       "Dean           float64\n",
       "Kerry          float64\n",
       "white          float64\n",
       "absentee       float64\n",
       "population     float64\n",
       "pObama         float64\n",
       "ward_winner     object\n",
       "dtype: object"
      ]
     },
     "execution_count": 90,
     "metadata": {},
     "output_type": "execute_result"
    }
   ],
   "source": [
    "data.dtypes"
   ]
  },
  {
   "cell_type": "code",
   "execution_count": 103,
   "id": "71f0048c",
   "metadata": {},
   "outputs": [],
   "source": [
    "data = data.replace(['O','C'],[0,1]) ## Here we are assigning 0 to Obama and 1 to Hilary Clinton. "
   ]
  },
  {
   "cell_type": "code",
   "execution_count": 124,
   "id": "7f076685",
   "metadata": {},
   "outputs": [
    {
     "name": "stdout",
     "output_type": "stream",
     "text": [
      "PointbiserialrResult(correlation=0.08677542683901837, pvalue=0.1504929790520673)\n"
     ]
    }
   ],
   "source": [
    "corr_pov = stats.pointbiserialr(data['povrate'],data['ward_winner'])\n",
    "print(corr_pov)"
   ]
  },
  {
   "cell_type": "markdown",
   "id": "ea498900",
   "metadata": {},
   "source": [
    "#### Our null hypothesis was that there is no correlation between povrate and ward winner and as p value is greater tha 0.05, we can not reject null hypothesis and so there is no correlation between povrate and ward winner"
   ]
  },
  {
   "cell_type": "code",
   "execution_count": 125,
   "id": "c88bf3eb",
   "metadata": {},
   "outputs": [
    {
     "name": "stdout",
     "output_type": "stream",
     "text": [
      "PointbiserialrResult(correlation=-0.203381942516842, pvalue=0.0006760930834256839)\n"
     ]
    }
   ],
   "source": [
    "corr_pci = stats.pointbiserialr(data['pci'],data['ward_winner'])\n",
    "print(corr_pci)"
   ]
  },
  {
   "cell_type": "markdown",
   "id": "bc9146d4",
   "metadata": {},
   "source": [
    "#### Our null hypothesis was that there is no correlation between pci and ward winner and as p value is less than 0.05, we can  reject null hypothesis and so there is negative low correlation between pci and ward winner as it is shown above."
   ]
  },
  {
   "cell_type": "code",
   "execution_count": 128,
   "id": "e5d941c4",
   "metadata": {},
   "outputs": [
    {
     "name": "stdout",
     "output_type": "stream",
     "text": [
      "PointbiserialrResult(correlation=-0.25772302389693397, pvalue=1.4533124698121049e-05)\n"
     ]
    }
   ],
   "source": [
    "corr_white = stats.pointbiserialr(data['white'],data['ward_winner'])\n",
    "print(corr_white)"
   ]
  },
  {
   "cell_type": "markdown",
   "id": "0d49f140",
   "metadata": {},
   "source": [
    "### Our null hypothesis was that there is no correlation between white which means propotion of white people and ward winner. However our p value is less than 0.05, so we can reject null hypothesis. As we can see in correlation coefficient, there is negative low correaltion"
   ]
  },
  {
   "cell_type": "code",
   "execution_count": 127,
   "id": "e6f7c32e",
   "metadata": {},
   "outputs": [
    {
     "name": "stdout",
     "output_type": "stream",
     "text": [
      "PointbiserialrResult(correlation=0.2957366742094713, pvalue=5.638424294868067e-07)\n"
     ]
    }
   ],
   "source": [
    "corr_population = stats.pointbiserialr(data['population'],data['ward_winner'])\n",
    "print(corr_population)"
   ]
  },
  {
   "cell_type": "markdown",
   "id": "345d0581",
   "metadata": {},
   "source": [
    "### Our null hypothesis was that there is no correlation between population and ward winner. However our p value is less than 0.05, so we can reject null hypothesis. As we can see in correlation coefficient, there is positve low correaltion"
   ]
  },
  {
   "cell_type": "markdown",
   "id": "7136253a",
   "metadata": {},
   "source": [
    "## Conclusion - After analysing the data with selected factors and their impact on the result, we found that voting method and other factors had some casual impact on elections but our analysis can verify that elections were not rigged"
   ]
  },
  {
   "cell_type": "markdown",
   "id": "b8755eb4",
   "metadata": {},
   "source": [
    "### 4 First Model Building"
   ]
  },
  {
   "cell_type": "code",
   "execution_count": 166,
   "id": "6a8fb58c",
   "metadata": {},
   "outputs": [],
   "source": [
    "from sklearn.model_selection import train_test_split, RepeatedStratifiedKFold,GridSearchCV"
   ]
  },
  {
   "cell_type": "code",
   "execution_count": 132,
   "id": "5008ee8e",
   "metadata": {},
   "outputs": [
    {
     "data": {
      "text/html": [
       "<div>\n",
       "<style scoped>\n",
       "    .dataframe tbody tr th:only-of-type {\n",
       "        vertical-align: middle;\n",
       "    }\n",
       "\n",
       "    .dataframe tbody tr th {\n",
       "        vertical-align: top;\n",
       "    }\n",
       "\n",
       "    .dataframe thead th {\n",
       "        text-align: right;\n",
       "    }\n",
       "</style>\n",
       "<table border=\"1\" class=\"dataframe\">\n",
       "  <thead>\n",
       "    <tr style=\"text-align: right;\">\n",
       "      <th></th>\n",
       "      <th>Unnamed: 0</th>\n",
       "      <th>votesys</th>\n",
       "      <th>Obama</th>\n",
       "      <th>Clinton</th>\n",
       "      <th>dem</th>\n",
       "      <th>povrate</th>\n",
       "      <th>pci</th>\n",
       "      <th>Dean</th>\n",
       "      <th>Kerry</th>\n",
       "      <th>white</th>\n",
       "      <th>absentee</th>\n",
       "      <th>population</th>\n",
       "      <th>pObama</th>\n",
       "      <th>ward_winner</th>\n",
       "    </tr>\n",
       "  </thead>\n",
       "  <tbody>\n",
       "    <tr>\n",
       "      <th>0</th>\n",
       "      <td>0</td>\n",
       "      <td>D</td>\n",
       "      <td>371</td>\n",
       "      <td>362</td>\n",
       "      <td>979</td>\n",
       "      <td>0.0653</td>\n",
       "      <td>25940</td>\n",
       "      <td>0.27820</td>\n",
       "      <td>0.32030</td>\n",
       "      <td>0.98312</td>\n",
       "      <td>0.059857</td>\n",
       "      <td>4693.0</td>\n",
       "      <td>0.378958</td>\n",
       "      <td>0</td>\n",
       "    </tr>\n",
       "    <tr>\n",
       "      <th>1</th>\n",
       "      <td>1</td>\n",
       "      <td>D</td>\n",
       "      <td>345</td>\n",
       "      <td>333</td>\n",
       "      <td>913</td>\n",
       "      <td>0.0380</td>\n",
       "      <td>19773</td>\n",
       "      <td>0.24398</td>\n",
       "      <td>0.36747</td>\n",
       "      <td>0.97349</td>\n",
       "      <td>0.050449</td>\n",
       "      <td>4266.0</td>\n",
       "      <td>0.377875</td>\n",
       "      <td>0</td>\n",
       "    </tr>\n",
       "    <tr>\n",
       "      <th>2</th>\n",
       "      <td>2</td>\n",
       "      <td>D</td>\n",
       "      <td>375</td>\n",
       "      <td>570</td>\n",
       "      <td>1305</td>\n",
       "      <td>0.0428</td>\n",
       "      <td>19986</td>\n",
       "      <td>0.20096</td>\n",
       "      <td>0.41627</td>\n",
       "      <td>0.96739</td>\n",
       "      <td>0.043649</td>\n",
       "      <td>7006.0</td>\n",
       "      <td>0.287356</td>\n",
       "      <td>1</td>\n",
       "    </tr>\n",
       "    <tr>\n",
       "      <th>3</th>\n",
       "      <td>3</td>\n",
       "      <td>H</td>\n",
       "      <td>92</td>\n",
       "      <td>89</td>\n",
       "      <td>268</td>\n",
       "      <td>0.0669</td>\n",
       "      <td>25627</td>\n",
       "      <td>0.28495</td>\n",
       "      <td>0.33333</td>\n",
       "      <td>0.97892</td>\n",
       "      <td>0.107356</td>\n",
       "      <td>1033.0</td>\n",
       "      <td>0.343284</td>\n",
       "      <td>0</td>\n",
       "    </tr>\n",
       "    <tr>\n",
       "      <th>4</th>\n",
       "      <td>4</td>\n",
       "      <td>D</td>\n",
       "      <td>668</td>\n",
       "      <td>595</td>\n",
       "      <td>1633</td>\n",
       "      <td>0.0332</td>\n",
       "      <td>32667</td>\n",
       "      <td>0.24937</td>\n",
       "      <td>0.37781</td>\n",
       "      <td>0.97986</td>\n",
       "      <td>0.074706</td>\n",
       "      <td>7033.0</td>\n",
       "      <td>0.409063</td>\n",
       "      <td>0</td>\n",
       "    </tr>\n",
       "  </tbody>\n",
       "</table>\n",
       "</div>"
      ],
      "text/plain": [
       "   Unnamed: 0 votesys  Obama  Clinton   dem  povrate    pci     Dean    Kerry  \\\n",
       "0           0       D    371      362   979   0.0653  25940  0.27820  0.32030   \n",
       "1           1       D    345      333   913   0.0380  19773  0.24398  0.36747   \n",
       "2           2       D    375      570  1305   0.0428  19986  0.20096  0.41627   \n",
       "3           3       H     92       89   268   0.0669  25627  0.28495  0.33333   \n",
       "4           4       D    668      595  1633   0.0332  32667  0.24937  0.37781   \n",
       "\n",
       "     white  absentee  population    pObama  ward_winner  \n",
       "0  0.98312  0.059857      4693.0  0.378958            0  \n",
       "1  0.97349  0.050449      4266.0  0.377875            0  \n",
       "2  0.96739  0.043649      7006.0  0.287356            1  \n",
       "3  0.97892  0.107356      1033.0  0.343284            0  \n",
       "4  0.97986  0.074706      7033.0  0.409063            0  "
      ]
     },
     "execution_count": 132,
     "metadata": {},
     "output_type": "execute_result"
    }
   ],
   "source": [
    "data.head()"
   ]
  },
  {
   "cell_type": "code",
   "execution_count": 134,
   "id": "fce80196",
   "metadata": {},
   "outputs": [],
   "source": [
    "data['votesys'] = data['votesys'].map({'D':100,'H':200})"
   ]
  },
  {
   "cell_type": "code",
   "execution_count": 148,
   "id": "16c742c8",
   "metadata": {},
   "outputs": [],
   "source": [
    "X = data[['votesys','povrate','pci','white','population','absentee','Dean','Kerry','dem']]\n",
    "Y = data['ward_winner']"
   ]
  },
  {
   "cell_type": "code",
   "execution_count": 149,
   "id": "753d1939",
   "metadata": {},
   "outputs": [],
   "source": [
    "x_train,x_test,y_train,y_test = train_test_split(X,Y,test_size=0.2,stratify=Y)"
   ]
  },
  {
   "cell_type": "markdown",
   "id": "1451c13c",
   "metadata": {},
   "source": [
    "### 4.1 Feature Selection"
   ]
  },
  {
   "cell_type": "code",
   "execution_count": 150,
   "id": "05cf27bc",
   "metadata": {},
   "outputs": [],
   "source": [
    "from sklearn.feature_selection import mutual_info_classif, SelectKBest"
   ]
  },
  {
   "cell_type": "code",
   "execution_count": 151,
   "id": "5457693c",
   "metadata": {},
   "outputs": [],
   "source": [
    "mutual_info = mutual_info_classif(x_train,y_train)"
   ]
  },
  {
   "cell_type": "code",
   "execution_count": 152,
   "id": "62ff8dcc",
   "metadata": {},
   "outputs": [
    {
     "data": {
      "text/plain": [
       "<AxesSubplot:>"
      ]
     },
     "execution_count": 152,
     "metadata": {},
     "output_type": "execute_result"
    },
    {
     "data": {
      "image/png": "[encoded data removed]",
      "text/plain": [
       "<Figure size 1080x504 with 1 Axes>"
      ]
     },
     "metadata": {
      "needs_background": "light"
     },
     "output_type": "display_data"
    }
   ],
   "source": [
    "mutual_info = pd.Series(mutual_info)\n",
    "mutual_info.index=['votesys','povrate','pci','white','population','absentee','Dean','Kerry','dem']\n",
    "mutual_info.sort_values(ascending=False).plot.bar(figsize =(15,7))"
   ]
  },
  {
   "cell_type": "markdown",
   "id": "f6c47aee",
   "metadata": {},
   "source": [
    "### Since features are not much, I have decided to take all of them"
   ]
  },
  {
   "cell_type": "code",
   "execution_count": 158,
   "id": "863f66b7",
   "metadata": {},
   "outputs": [],
   "source": [
    "n_estimators = [int(i) for i in np.linspace(start = 50, stop = 120, num = 25)]\n",
    "\n",
    "max_features = ['auto','sqrt']\n",
    "\n",
    "max_depth = [2,8]  \n",
    "\n",
    "min_samples_split = [2,8]\n",
    "\n",
    "min_samples_leaf = [1,8] \n",
    "\n",
    "bootstrap = [True, False]"
   ]
  },
  {
   "cell_type": "code",
   "execution_count": 159,
   "id": "d70adf44",
   "metadata": {},
   "outputs": [
    {
     "name": "stdout",
     "output_type": "stream",
     "text": [
      "{'n_estimators': [50, 52, 55, 58, 61, 64, 67, 70, 73, 76, 79, 82, 85, 87, 90, 93, 96, 99, 102, 105, 108, 111, 114, 117, 120], 'max_features': ['auto', 'sqrt'], 'max_depth': [2, 8], 'min_samples_split': [2, 8], 'min_samples_leaf': [1, 8], 'bootstrap': [True, False]}\n"
     ]
    }
   ],
   "source": [
    "grid = {'n_estimators': n_estimators,'max_features':max_features,'max_depth': max_depth,'min_samples_split':min_samples_split,'min_samples_leaf': min_samples_leaf,'bootstrap':bootstrap}\n",
    "print(grid)"
   ]
  },
  {
   "cell_type": "code",
   "execution_count": 160,
   "id": "dfb7cbd1",
   "metadata": {},
   "outputs": [],
   "source": [
    "from sklearn.ensemble import RandomForestClassifier"
   ]
  },
  {
   "cell_type": "code",
   "execution_count": 161,
   "id": "654c6c02",
   "metadata": {},
   "outputs": [],
   "source": [
    "rf_clf = RandomForestClassifier()"
   ]
  },
  {
   "cell_type": "code",
   "execution_count": 164,
   "id": "754a90a1",
   "metadata": {},
   "outputs": [],
   "source": [
    "cv = RepeatedStratifiedKFold(n_splits=10, n_repeats=3, random_state=1)"
   ]
  },
  {
   "cell_type": "code",
   "execution_count": 168,
   "id": "a75d778f",
   "metadata": {},
   "outputs": [],
   "source": [
    "random_forest_random_grid = GridSearchCV(estimator=rf_clf,param_grid=grid,cv=cv)"
   ]
  },
  {
   "cell_type": "code",
   "execution_count": 170,
   "id": "560b74c7",
   "metadata": {},
   "outputs": [
    {
     "data": {
      "text/plain": [
       "GridSearchCV(cv=RepeatedStratifiedKFold(n_repeats=3, n_splits=10, random_state=1),\n",
       "             estimator=RandomForestClassifier(),\n",
       "             param_grid={'bootstrap': [True, False], 'max_depth': [2, 8],\n",
       "                         'max_features': ['auto', 'sqrt'],\n",
       "                         'min_samples_leaf': [1, 8],\n",
       "                         'min_samples_split': [2, 8],\n",
       "                         'n_estimators': [50, 52, 55, 58, 61, 64, 67, 70, 73,\n",
       "                                          76, 79, 82, 85, 87, 90, 93, 96, 99,\n",
       "                                          102, 105, 108, 111, 114, 117, 120]})"
      ]
     },
     "execution_count": 170,
     "metadata": {},
     "output_type": "execute_result"
    }
   ],
   "source": [
    "random_forest_random_grid.fit(x_train,y_train)"
   ]
  },
  {
   "cell_type": "code",
   "execution_count": 171,
   "id": "30602ec9",
   "metadata": {},
   "outputs": [
    {
     "data": {
      "text/plain": [
       "RandomForestClassifier(max_depth=8, max_features='sqrt', min_samples_leaf=8,\n",
       "                       n_estimators=93)"
      ]
     },
     "execution_count": 171,
     "metadata": {},
     "output_type": "execute_result"
    }
   ],
   "source": [
    "random_forest_random_grid.best_estimator_"
   ]
  },
  {
   "cell_type": "markdown",
   "id": "9f525acb",
   "metadata": {},
   "source": [
    "### Now our model is built and optimised, we will try to predict who will win in which ward"
   ]
  },
  {
   "cell_type": "code",
   "execution_count": 177,
   "id": "47879828",
   "metadata": {},
   "outputs": [],
   "source": [
    "pred = random_forest_random_grid.best_estimator_.predict(x_test)"
   ]
  },
  {
   "cell_type": "code",
   "execution_count": 185,
   "id": "f8e6eb82",
   "metadata": {},
   "outputs": [
    {
     "name": "stdout",
     "output_type": "stream",
     "text": [
      "              precision    recall  f1-score   support\n",
      "\n",
      "           0       0.76      0.85      0.80        26\n",
      "           1       0.85      0.77      0.81        30\n",
      "\n",
      "    accuracy                           0.80        56\n",
      "   macro avg       0.81      0.81      0.80        56\n",
      "weighted avg       0.81      0.80      0.80        56\n",
      "\n"
     ]
    }
   ],
   "source": [
    "from sklearn.metrics import classification_report,confusion_matrix\n",
    "print(classification_report(y_test,pred))"
   ]
  },
  {
   "cell_type": "code",
   "execution_count": 187,
   "id": "177a6960",
   "metadata": {},
   "outputs": [
    {
     "data": {
      "text/plain": [
       "<AxesSubplot:>"
      ]
     },
     "execution_count": 187,
     "metadata": {},
     "output_type": "execute_result"
    },
    {
     "data": {
      "image/png": "[encoded data removed]",
      "text/plain": [
       "<Figure size 432x288 with 2 Axes>"
      ]
     },
     "metadata": {
      "needs_background": "light"
     },
     "output_type": "display_data"
    }
   ],
   "source": [
    "sns.heatmap(confusion_matrix(y_test,pred),annot=True)"
   ]
  },
  {
   "cell_type": "markdown",
   "id": "fb66f5db",
   "metadata": {},
   "source": [
    "### I used Random Forest Classifer as genrally it performs better when we have combined categorical and continous variables. It is also capable to handle large datasets. Our model performed fine with f1 score of 0.8. "
   ]
  },
  {
   "cell_type": "markdown",
   "id": "cdff4157",
   "metadata": {},
   "source": [
    "### 5. Second Model Building"
   ]
  },
  {
   "cell_type": "code",
   "execution_count": 213,
   "id": "2f02f231",
   "metadata": {},
   "outputs": [],
   "source": [
    "from sklearn.linear_model import LogisticRegression\n",
    "from sklearn.model_selection import cross_val_score\n",
    "logreg = LogisticRegression(penalty='l2')"
   ]
  },
  {
   "cell_type": "code",
   "execution_count": 214,
   "id": "ada80b6d",
   "metadata": {},
   "outputs": [
    {
     "data": {
      "text/plain": [
       "LogisticRegression()"
      ]
     },
     "execution_count": 214,
     "metadata": {},
     "output_type": "execute_result"
    }
   ],
   "source": [
    "logreg.fit(x_train, y_train)"
   ]
  },
  {
   "cell_type": "code",
   "execution_count": 220,
   "id": "bb54b294",
   "metadata": {},
   "outputs": [
    {
     "name": "stdout",
     "output_type": "stream",
     "text": [
      "[0.69230769 0.55555556 0.66666667 0.76190476 0.72727273 0.81818182\n",
      " 0.76190476 0.60869565 0.66666667 0.63636364 0.59259259 0.75\n",
      " 0.8        0.66666667 0.66666667 0.7        0.63636364 0.66666667\n",
      " 0.66666667 0.76190476 0.72727273 0.72       0.63636364 0.52631579\n",
      " 0.75       0.63157895 0.69230769 0.72727273 0.7826087  0.75      ]\n"
     ]
    }
   ],
   "source": [
    "print(cross_val_score(logreg,x_train,y_train, cv=cv,scoring='f1'))\n"
   ]
  },
  {
   "cell_type": "code",
   "execution_count": 221,
   "id": "66bd30ed",
   "metadata": {},
   "outputs": [],
   "source": [
    "preds = logreg.predict(x_test)"
   ]
  },
  {
   "cell_type": "code",
   "execution_count": 222,
   "id": "bacc6de7",
   "metadata": {},
   "outputs": [
    {
     "data": {
      "text/plain": [
       "array([1, 1, 0, 0, 0, 0, 1, 1, 1, 1, 0, 1, 1, 0, 0, 0, 1, 1, 1, 0, 0, 0,\n",
       "       0, 1, 0, 0, 0, 0, 0, 1, 1, 0, 0, 1, 0, 1, 1, 0, 0, 1, 0, 1, 0, 0,\n",
       "       0, 0, 0, 1, 0, 1, 1, 0, 1, 0, 1, 0])"
      ]
     },
     "execution_count": 222,
     "metadata": {},
     "output_type": "execute_result"
    }
   ],
   "source": [
    "preds"
   ]
  },
  {
   "cell_type": "code",
   "execution_count": 223,
   "id": "9f9ba00d",
   "metadata": {},
   "outputs": [
    {
     "name": "stdout",
     "output_type": "stream",
     "text": [
      "              precision    recall  f1-score   support\n",
      "\n",
      "           0       0.72      0.88      0.79        26\n",
      "           1       0.88      0.70      0.78        30\n",
      "\n",
      "    accuracy                           0.79        56\n",
      "   macro avg       0.80      0.79      0.79        56\n",
      "weighted avg       0.80      0.79      0.78        56\n",
      "\n"
     ]
    }
   ],
   "source": [
    "from sklearn.metrics import classification_report,confusion_matrix\n",
    "print(classification_report(y_test,preds))"
   ]
  },
  {
   "cell_type": "code",
   "execution_count": 224,
   "id": "d30d5b2e",
   "metadata": {},
   "outputs": [
    {
     "data": {
      "text/plain": [
       "<AxesSubplot:>"
      ]
     },
     "execution_count": 224,
     "metadata": {},
     "output_type": "execute_result"
    },
    {
     "data": {
      "image/png": "[encoded data removed]",
      "text/plain": [
       "<Figure size 432x288 with 2 Axes>"
      ]
     },
     "metadata": {
      "needs_background": "light"
     },
     "output_type": "display_data"
    }
   ],
   "source": [
    "sns.heatmap(confusion_matrix(y_test,preds),annot=True)"
   ]
  },
  {
   "cell_type": "markdown",
   "id": "5e2c2082",
   "metadata": {},
   "source": [
    "### As we can see Regularsied Logistic Regression's performance is less as compared to our Random Forest Classifier model"
   ]
  }
 ],
 "metadata": {
  "kernelspec": {
   "display_name": "Python 3",
   "language": "python",
   "name": "python3"
  },
  "language_info": {
   "codemirror_mode": {
    "name": "ipython",
    "version": 3
   },
   "file_extension": ".py",
   "mimetype": "text/x-python",
   "name": "python",
   "nbconvert_exporter": "python",
   "pygments_lexer": "ipython3",
   "version": "3.8.8"
  }
 },
 "nbformat": 4,
 "nbformat_minor": 5
}
